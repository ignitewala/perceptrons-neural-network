{
 "cells": [
  {
   "cell_type": "markdown",
   "metadata": {},
   "source": [
    "# Perceptron Model\n",
    "\n",
    "* The Perceptron is a linear classifier that predicts based on a weighted sum of\n",
    "input features. \n",
    "* It updates weights using the formula: 𝑤𝑖 = 𝑤𝑖 + η⋅(𝑦 − 𝑦^)⋅𝑥𝑖\n",
    "\n",
    "* where 𝑤i is the weight, η is the learning rate, y is the true label, 𝑦^ is the predicted and 𝑥i is the input feature\n",
    "\n"
   ]
  },
  {
   "cell_type": "markdown",
   "metadata": {},
   "source": [
    "## Part A: Implementation of the Perceptron Model"
   ]
  },
  {
   "cell_type": "markdown",
   "metadata": {},
   "source": [
    "### import tools"
   ]
  },
  {
   "cell_type": "code",
   "execution_count": 121,
   "metadata": {},
   "outputs": [],
   "source": [
    "import numpy as np\n",
    "import pandas as pd"
   ]
  },
  {
   "cell_type": "markdown",
   "metadata": {},
   "source": [
    "### load dataset: \n",
    "   * dataset details at https://archive.ics.uci.edu/ml/datasets/iris"
   ]
  },
  {
   "cell_type": "markdown",
   "metadata": {},
   "source": [
    "<div style=\"text-align: center;\">\n",
    "<img src=\"./images/Iris dataset.png\" alt=\"IrisData\" width=\"700\">"
   ]
  },
  {
   "cell_type": "code",
   "execution_count": 164,
   "metadata": {},
   "outputs": [
    {
     "data": {
      "text/html": [
       "<div>\n",
       "<style scoped>\n",
       "    .dataframe tbody tr th:only-of-type {\n",
       "        vertical-align: middle;\n",
       "    }\n",
       "\n",
       "    .dataframe tbody tr th {\n",
       "        vertical-align: top;\n",
       "    }\n",
       "\n",
       "    .dataframe thead th {\n",
       "        text-align: right;\n",
       "    }\n",
       "</style>\n",
       "<table border=\"1\" class=\"dataframe\">\n",
       "  <thead>\n",
       "    <tr style=\"text-align: right;\">\n",
       "      <th></th>\n",
       "      <th>sepal.length</th>\n",
       "      <th>sepal.width</th>\n",
       "      <th>petal.length</th>\n",
       "      <th>petal.width</th>\n",
       "      <th>variety</th>\n",
       "    </tr>\n",
       "  </thead>\n",
       "  <tbody>\n",
       "    <tr>\n",
       "      <th>0</th>\n",
       "      <td>5.1</td>\n",
       "      <td>3.5</td>\n",
       "      <td>1.4</td>\n",
       "      <td>0.2</td>\n",
       "      <td>Setosa</td>\n",
       "    </tr>\n",
       "    <tr>\n",
       "      <th>1</th>\n",
       "      <td>4.9</td>\n",
       "      <td>3.0</td>\n",
       "      <td>1.4</td>\n",
       "      <td>0.2</td>\n",
       "      <td>Setosa</td>\n",
       "    </tr>\n",
       "    <tr>\n",
       "      <th>2</th>\n",
       "      <td>4.7</td>\n",
       "      <td>3.2</td>\n",
       "      <td>1.3</td>\n",
       "      <td>0.2</td>\n",
       "      <td>Setosa</td>\n",
       "    </tr>\n",
       "    <tr>\n",
       "      <th>3</th>\n",
       "      <td>4.6</td>\n",
       "      <td>3.1</td>\n",
       "      <td>1.5</td>\n",
       "      <td>0.2</td>\n",
       "      <td>Setosa</td>\n",
       "    </tr>\n",
       "    <tr>\n",
       "      <th>4</th>\n",
       "      <td>5.0</td>\n",
       "      <td>3.6</td>\n",
       "      <td>1.4</td>\n",
       "      <td>0.2</td>\n",
       "      <td>Setosa</td>\n",
       "    </tr>\n",
       "  </tbody>\n",
       "</table>\n",
       "</div>"
      ],
      "text/plain": [
       "   sepal.length  sepal.width  petal.length  petal.width variety\n",
       "0           5.1          3.5           1.4          0.2  Setosa\n",
       "1           4.9          3.0           1.4          0.2  Setosa\n",
       "2           4.7          3.2           1.3          0.2  Setosa\n",
       "3           4.6          3.1           1.5          0.2  Setosa\n",
       "4           5.0          3.6           1.4          0.2  Setosa"
      ]
     },
     "execution_count": 164,
     "metadata": {},
     "output_type": "execute_result"
    }
   ],
   "source": [
    "# load dataset\n",
    "\n",
    "df = pd.read_csv('data/iris.csv')\n",
    "\n",
    "df.head()"
   ]
  },
  {
   "cell_type": "markdown",
   "metadata": {},
   "source": [
    "### Convert non-numeric data, for numpy processing"
   ]
  },
  {
   "cell_type": "code",
   "execution_count": 123,
   "metadata": {},
   "outputs": [
    {
     "data": {
      "text/plain": [
       "{'Setosa', 'Versicolor', 'Virginica'}"
      ]
     },
     "execution_count": 123,
     "metadata": {},
     "output_type": "execute_result"
    }
   ],
   "source": [
    "targets = set(df['variety'].to_list())\n",
    "\n",
    "targets"
   ]
  },
  {
   "cell_type": "markdown",
   "metadata": {},
   "source": [
    "#### Remove Virginica"
   ]
  },
  {
   "cell_type": "code",
   "execution_count": 124,
   "metadata": {},
   "outputs": [
    {
     "name": "stdout",
     "output_type": "stream",
     "text": [
      "{'Setosa', 'Versicolor'}\n"
     ]
    },
    {
     "data": {
      "text/plain": [
       "{'Setosa': 0, 'Versicolor': 1}"
      ]
     },
     "execution_count": 124,
     "metadata": {},
     "output_type": "execute_result"
    }
   ],
   "source": [
    "virginica_indices = df[df['variety'] == 'Virginica'].index\n",
    "df = df.drop(virginica_indices);\n",
    "\n",
    "targets = set(df['variety'].to_list())\n",
    "print(targets)\n",
    "idx = {}\n",
    "\n",
    "for i, target in enumerate(targets):\n",
    "    idx[target] = i\n",
    "\n",
    "idx"
   ]
  },
  {
   "cell_type": "code",
   "execution_count": 125,
   "metadata": {},
   "outputs": [
    {
     "data": {
      "text/html": [
       "<div>\n",
       "<style scoped>\n",
       "    .dataframe tbody tr th:only-of-type {\n",
       "        vertical-align: middle;\n",
       "    }\n",
       "\n",
       "    .dataframe tbody tr th {\n",
       "        vertical-align: top;\n",
       "    }\n",
       "\n",
       "    .dataframe thead th {\n",
       "        text-align: right;\n",
       "    }\n",
       "</style>\n",
       "<table border=\"1\" class=\"dataframe\">\n",
       "  <thead>\n",
       "    <tr style=\"text-align: right;\">\n",
       "      <th></th>\n",
       "      <th>sepal.length</th>\n",
       "      <th>sepal.width</th>\n",
       "      <th>petal.length</th>\n",
       "      <th>petal.width</th>\n",
       "      <th>variety</th>\n",
       "    </tr>\n",
       "  </thead>\n",
       "  <tbody>\n",
       "    <tr>\n",
       "      <th>0</th>\n",
       "      <td>5.1</td>\n",
       "      <td>3.5</td>\n",
       "      <td>1.4</td>\n",
       "      <td>0.2</td>\n",
       "      <td>0</td>\n",
       "    </tr>\n",
       "    <tr>\n",
       "      <th>1</th>\n",
       "      <td>4.9</td>\n",
       "      <td>3.0</td>\n",
       "      <td>1.4</td>\n",
       "      <td>0.2</td>\n",
       "      <td>0</td>\n",
       "    </tr>\n",
       "    <tr>\n",
       "      <th>2</th>\n",
       "      <td>4.7</td>\n",
       "      <td>3.2</td>\n",
       "      <td>1.3</td>\n",
       "      <td>0.2</td>\n",
       "      <td>0</td>\n",
       "    </tr>\n",
       "    <tr>\n",
       "      <th>3</th>\n",
       "      <td>4.6</td>\n",
       "      <td>3.1</td>\n",
       "      <td>1.5</td>\n",
       "      <td>0.2</td>\n",
       "      <td>0</td>\n",
       "    </tr>\n",
       "    <tr>\n",
       "      <th>4</th>\n",
       "      <td>5.0</td>\n",
       "      <td>3.6</td>\n",
       "      <td>1.4</td>\n",
       "      <td>0.2</td>\n",
       "      <td>0</td>\n",
       "    </tr>\n",
       "  </tbody>\n",
       "</table>\n",
       "</div>"
      ],
      "text/plain": [
       "   sepal.length  sepal.width  petal.length  petal.width  variety\n",
       "0           5.1          3.5           1.4          0.2        0\n",
       "1           4.9          3.0           1.4          0.2        0\n",
       "2           4.7          3.2           1.3          0.2        0\n",
       "3           4.6          3.1           1.5          0.2        0\n",
       "4           5.0          3.6           1.4          0.2        0"
      ]
     },
     "execution_count": 125,
     "metadata": {},
     "output_type": "execute_result"
    }
   ],
   "source": [
    "df['variety'] = [idx[x] for x in df['variety']]\n",
    "\n",
    "df.head()"
   ]
  },
  {
   "cell_type": "markdown",
   "metadata": {},
   "source": [
    "### Remove Petal and Sepal width columns"
   ]
  },
  {
   "cell_type": "code",
   "execution_count": 126,
   "metadata": {},
   "outputs": [
    {
     "data": {
      "text/html": [
       "<div>\n",
       "<style scoped>\n",
       "    .dataframe tbody tr th:only-of-type {\n",
       "        vertical-align: middle;\n",
       "    }\n",
       "\n",
       "    .dataframe tbody tr th {\n",
       "        vertical-align: top;\n",
       "    }\n",
       "\n",
       "    .dataframe thead th {\n",
       "        text-align: right;\n",
       "    }\n",
       "</style>\n",
       "<table border=\"1\" class=\"dataframe\">\n",
       "  <thead>\n",
       "    <tr style=\"text-align: right;\">\n",
       "      <th></th>\n",
       "      <th>sepal.length</th>\n",
       "      <th>petal.length</th>\n",
       "      <th>variety</th>\n",
       "    </tr>\n",
       "  </thead>\n",
       "  <tbody>\n",
       "    <tr>\n",
       "      <th>0</th>\n",
       "      <td>5.1</td>\n",
       "      <td>1.4</td>\n",
       "      <td>0</td>\n",
       "    </tr>\n",
       "    <tr>\n",
       "      <th>1</th>\n",
       "      <td>4.9</td>\n",
       "      <td>1.4</td>\n",
       "      <td>0</td>\n",
       "    </tr>\n",
       "    <tr>\n",
       "      <th>2</th>\n",
       "      <td>4.7</td>\n",
       "      <td>1.3</td>\n",
       "      <td>0</td>\n",
       "    </tr>\n",
       "    <tr>\n",
       "      <th>3</th>\n",
       "      <td>4.6</td>\n",
       "      <td>1.5</td>\n",
       "      <td>0</td>\n",
       "    </tr>\n",
       "    <tr>\n",
       "      <th>4</th>\n",
       "      <td>5.0</td>\n",
       "      <td>1.4</td>\n",
       "      <td>0</td>\n",
       "    </tr>\n",
       "  </tbody>\n",
       "</table>\n",
       "</div>"
      ],
      "text/plain": [
       "   sepal.length  petal.length  variety\n",
       "0           5.1           1.4        0\n",
       "1           4.9           1.4        0\n",
       "2           4.7           1.3        0\n",
       "3           4.6           1.5        0\n",
       "4           5.0           1.4        0"
      ]
     },
     "execution_count": 126,
     "metadata": {},
     "output_type": "execute_result"
    }
   ],
   "source": [
    "df = df.drop('sepal.width', axis=1)\n",
    "df = df.drop('petal.width', axis=1)\n",
    "df.head()"
   ]
  },
  {
   "cell_type": "markdown",
   "metadata": {},
   "source": [
    "### Define Perceptron Classifier"
   ]
  },
  {
   "cell_type": "markdown",
   "metadata": {},
   "source": [
    "### Define Model"
   ]
  },
  {
   "cell_type": "code",
   "execution_count": 150,
   "metadata": {},
   "outputs": [],
   "source": [
    "import time\n",
    "\n",
    "class Perceptron():\n",
    "    def __init__(self, learning_rate=0.01, epochs=50, random_state=42):\n",
    "        ''' constructor '''\n",
    "        self.learning_rate = learning_rate\n",
    "        self.epochs = epochs\n",
    "        self.random_state = random_state\n",
    "        self.weights = None\n",
    "        self.bias = None\n",
    "        self.errors= []\n",
    "        self.accuracy= []\n",
    "        self.training_time = None\n"
   ]
  },
  {
   "cell_type": "code",
   "execution_count": 165,
   "metadata": {},
   "outputs": [],
   "source": [
    "def fit(self, X, y):\n",
    "    ''' function to train the tree '''\n",
    "    tic = time.time()\n",
    "    samples_n, features_n = X.shape\n",
    "    # Initialize weights and bias\n",
    "    self.weights = np.zeros(features_n)\n",
    "    self.bias = 0\n",
    "\n",
    "    for epoch in range(self.epochs):\n",
    "        errors = 0\n",
    "        for xi, target in zip(X, y):\n",
    "            z = np.dot(xi, self.weights) + self.bias\n",
    "            y_hat = 1 if z >= 0 else 0\n",
    "            alpha = self.learning_rate * (target - y_hat)\n",
    "            # Update weights and bias\n",
    "            self.weights += alpha * xi\n",
    "            self.bias += alpha\n",
    "\n",
    "            if target != y_hat: \n",
    "                errors += 1\n",
    "\n",
    "        #Update stats\n",
    "        accuracy = (len(X) - errors) / len(X)\n",
    "        self.errors.append(errors)\n",
    "        self.accuracy.append(accuracy)\n",
    "    toc = time.time()\n",
    "    self.training_time = 1000*(toc-tic)\n",
    "    return self\n",
    "\n",
    "Perceptron.fit = fit"
   ]
  },
  {
   "cell_type": "code",
   "execution_count": 152,
   "metadata": {},
   "outputs": [],
   "source": [
    "def predict(self, X):\n",
    "    ''' function to predict new dataset '''\n",
    "    linear_output = np.dot(X, self.weights) + self.bias\n",
    "    preditions = np.where(linear_output >= 0, 1, 0)\n",
    "    return preditions\n",
    "\n",
    "Perceptron.predict = predict"
   ]
  },
  {
   "cell_type": "code",
   "execution_count": 153,
   "metadata": {},
   "outputs": [],
   "source": [
    "from sklearn.preprocessing import StandardScaler\n",
    "import matplotlib.pyplot as plt\n",
    "\n",
    "def plot_decision_boundary(self, X_train, X_test, y_train, y_test):\n",
    "    x_min, x_max = X_train[:, 0].min() - 1, X_train[:, 0].max() + 1\n",
    "    y_min, y_max = X_train[:, 1].min() - 1, X_train[:, 1].max() + 1\n",
    "    xx, yy = np.meshgrid(np.arange(x_min, x_max, 0.1),\n",
    "                         np.arange(y_min, y_max, 0.1))\n",
    "    Z = self.predict(np.c_[xx.ravel(), yy.ravel()])\n",
    "    Z = Z.reshape(xx.shape)\n",
    "\n",
    "    plt.contourf(xx, yy, Z, alpha=0.4)  # Filled contours for decision regions\n",
    "    plt.scatter(X_train[:, 0], X_train[:, 1], c=y_train, label='Training Data', edgecolors='k')\n",
    "    plt.scatter(X_test[:, 0], X_test[:, 1], c=y_test, label='Test Data', marker='X', edgecolors='k')\n",
    "    plt.xlabel('Sepal Length (Standardized)')\n",
    "    plt.ylabel('Petal Length (Standardized)')\n",
    "    plt.title('Perceptron Decision Boundary')\n",
    "    plt.legend()\n",
    "    plt.show()\n",
    "\n",
    "Perceptron.plot = plot_decision_boundary"
   ]
  },
  {
   "cell_type": "code",
   "execution_count": 154,
   "metadata": {},
   "outputs": [],
   "source": [
    "def print_stats(self, X_test, y_test, X_train, y_train):\n",
    "    Y_pred_test = self.predict(X_test) \n",
    "    Y_pred_train = self.predict(X_train) \n",
    "    print(\"-----------------------------------------------\")\n",
    "    print(\"Learning rate is = \"+str(self.learning_rate))\n",
    "    print(\"Training Accuracy = \", accuracy_score(y_train, Y_pred_train)*100)\n",
    "    print(\"Test Accuracy = \", accuracy_score(y_test, Y_pred_test)*100)\n",
    "    print(\"Weights (W1, W2): \"+str(self.weights)+\", Bias (B): \"+str(self.bias)+\", training time =\"+ str(self.training_time) +\"ms\")\n",
    "    print(\"-----------------------------------------------\")\n",
    "    print()\n",
    "\n",
    "Perceptron.print = print_stats"
   ]
  },
  {
   "cell_type": "markdown",
   "metadata": {},
   "source": [
    "### Split the data in train and test set for fitting and evaluation"
   ]
  },
  {
   "cell_type": "code",
   "execution_count": 155,
   "metadata": {},
   "outputs": [],
   "source": [
    "from sklearn.model_selection import train_test_split\n",
    "\n",
    "X = df.iloc[:, :-1].values\n",
    "Y = df.iloc[:, -1].values.reshape(-1,1)\n",
    "\n",
    "X_train, X_test, y_train, y_test = train_test_split(X, Y, test_size=.2, random_state=41)"
   ]
  },
  {
   "cell_type": "code",
   "execution_count": 156,
   "metadata": {},
   "outputs": [
    {
     "name": "stdout",
     "output_type": "stream",
     "text": [
      "Weights (W1, W2): [-0.047  0.089] training time =None\n",
      "Bias (B): [-0.02]\n"
     ]
    }
   ],
   "source": [
    "classifier = Perceptron(epochs=500)\n",
    "classifier.fit(X_train,y_train)\n",
    "print(\"Weights (W1, W2): \"+str(classifier.weights)+\" training time =\"+ str(classifier.training_time))\n",
    "print(\"Bias (B): \"+str(classifier.bias))"
   ]
  },
  {
   "cell_type": "code",
   "execution_count": 157,
   "metadata": {},
   "outputs": [
    {
     "name": "stdout",
     "output_type": "stream",
     "text": [
      "Test Accuracy =  100.0\n",
      "Train Accuracy=  100.0\n",
      "Sklearn Accuracy =  100.0\n"
     ]
    },
    {
     "name": "stderr",
     "output_type": "stream",
     "text": [
      "/opt/homebrew/lib/python3.11/site-packages/sklearn/utils/validation.py:1339: DataConversionWarning: A column-vector y was passed when a 1d array was expected. Please change the shape of y to (n_samples, ), for example using ravel().\n",
      "  y = column_or_1d(y, warn=True)\n"
     ]
    }
   ],
   "source": [
    "from sklearn.metrics import accuracy_score\n",
    "from sklearn.preprocessing import StandardScaler\n",
    "from sklearn.linear_model import Perceptron as SkPerceptron \n",
    "\n",
    "\n",
    "y_pred_test = classifier.predict(X_test) \n",
    "y_pred_train = classifier.predict(X_train) \n",
    "\n",
    "print(\"Test Accuracy = \", accuracy_score(y_test, y_pred_test)*100)\n",
    "print(\"Train Accuracy= \", accuracy_score(y_train, y_pred_train)*100)\n",
    "\n",
    " # Built-in Model, fit and accuracy\n",
    "sklearn_perceptron = SkPerceptron(eta0=0.1, max_iter=500, random_state=42) \n",
    "sklearn_perceptron.fit(X_train, y_train)\n",
    "y_pred_sklearn = sklearn_perceptron.predict(X_test)\n",
    "y_pred_sklearn.shape\n",
    "print(\"Sklearn Accuracy = \", accuracy_score(Y_test, y_pred_sklearn)*100)\n",
    "\n"
   ]
  },
  {
   "cell_type": "markdown",
   "metadata": {},
   "source": [
    "### Visualise "
   ]
  },
  {
   "cell_type": "code",
   "execution_count": 158,
   "metadata": {},
   "outputs": [
    {
     "data": {
      "image/png": "[encoded data removed]",
      "text/plain": [
       "<Figure size 640x480 with 1 Axes>"
      ]
     },
     "metadata": {},
     "output_type": "display_data"
    }
   ],
   "source": [
    "classifier.plot(X_train, X_test, Y_train, y_test)"
   ]
  },
  {
   "cell_type": "markdown",
   "metadata": {},
   "source": [
    "## Plot Accuracy"
   ]
  },
  {
   "cell_type": "code",
   "execution_count": 159,
   "metadata": {},
   "outputs": [
    {
     "name": "stderr",
     "output_type": "stream",
     "text": [
      "/var/folders/r9/8v712nnx4bgcr1y81zc9nq9r0000gn/T/ipykernel_22224/552371296.py:5: UserWarning: No artists with labels found to put in legend.  Note that artists whose label start with an underscore are ignored when legend() is called with no argument.\n",
      "  plt.legend()\n"
     ]
    },
    {
     "data": {
      "image/png": "[encoded data removed]",
      "text/plain": [
       "<Figure size 640x480 with 1 Axes>"
      ]
     },
     "metadata": {},
     "output_type": "display_data"
    }
   ],
   "source": [
    "plt.plot(classifier.accuracy)\n",
    "plt.title('Accuracy over Epochs')\n",
    "plt.xlabel('Epoch')\n",
    "plt.ylabel('Accuracy')\n",
    "plt.legend()\n",
    "plt.show()"
   ]
  },
  {
   "cell_type": "markdown",
   "metadata": {},
   "source": [
    "# Bonus Challenge"
   ]
  },
  {
   "cell_type": "code",
   "execution_count": 170,
   "metadata": {},
   "outputs": [
    {
     "name": "stdout",
     "output_type": "stream",
     "text": [
      "-----------------------------------------------\n",
      "Learning rate is -0.01\n",
      "Training Accuracy =  100.0\n",
      "Test Accuracy =  100.0\n",
      "Weights (W1, W2): [-0.047  0.089], Bias (B): [-0.02], training time =245.3329563140869\n",
      "-----------------------------------------------\n",
      "\n",
      "-----------------------------------------------\n",
      "Learning rate is -0.05\n",
      "Training Accuracy =  100.0\n",
      "Test Accuracy =  100.0\n",
      "Weights (W1, W2): [-0.235  0.445], Bias (B): [-0.1], training time =207.42392539978027\n",
      "-----------------------------------------------\n",
      "\n",
      "-----------------------------------------------\n",
      "Learning rate is -0.001\n",
      "Training Accuracy =  100.0\n",
      "Test Accuracy =  100.0\n",
      "Weights (W1, W2): [-0.0047  0.0089], Bias (B): [-0.002], training time =229.35223579406738\n",
      "-----------------------------------------------\n",
      "\n",
      "-----------------------------------------------\n",
      "Learning rate is -0.005\n",
      "Training Accuracy =  100.0\n",
      "Test Accuracy =  100.0\n",
      "Weights (W1, W2): [-0.0235  0.0445], Bias (B): [-0.01], training time =208.3117961883545\n",
      "-----------------------------------------------\n",
      "\n",
      "-----------------------------------------------\n",
      "Learning rate is -0.0001\n",
      "Training Accuracy =  100.0\n",
      "Test Accuracy =  100.0\n",
      "Weights (W1, W2): [-0.00047  0.00089], Bias (B): [-0.0002], training time =205.15775680541992\n",
      "-----------------------------------------------\n",
      "\n"
     ]
    },
    {
     "data": {
      "image/png": "[encoded data removed]",
      "text/plain": [
       "<Figure size 640x480 with 1 Axes>"
      ]
     },
     "metadata": {},
     "output_type": "display_data"
    }
   ],
   "source": [
    "learning_rates = [0.01, 0.05, 0.001, 0.005, 0.0001]\n",
    "for lr in learning_rates:\n",
    "    model = Perceptron(learning_rate=lr, epochs=500)\n",
    "    model.fit(X_train,y_train)\n",
    "    model.print(X_test, y_test, X_train, y_train)\n",
    "    plt.plot(np.squeeze(model.accuracy), label= str(lr))\n",
    "\n",
    "plt.ylabel('Accuracy')\n",
    "plt.xlabel('Epochs')\n",
    "\n",
    "legend = plt.legend(loc='lower right', shadow=True)\n",
    "frame = legend.get_frame()\n",
    "frame.set_facecolor('0.78')\n",
    "plt.show()"
   ]
  }
 ],
 "metadata": {
  "kernelspec": {
   "display_name": "Python 3 (ipykernel)",
   "language": "python",
   "name": "python3"
  },
  "language_info": {
   "codemirror_mode": {
    "name": "ipython",
    "version": 3
   },
   "file_extension": ".py",
   "mimetype": "text/x-python",
   "name": "python",
   "nbconvert_exporter": "python",
   "pygments_lexer": "ipython3",
   "version": "3.11.7"
  },
  "vscode": {
   "interpreter": {
    "hash": "e5133d92d9feced74b40f8d99dea697a6625fc6ef9601ae3290e074e3658118e"
   }
  }
 },
 "nbformat": 4,
 "nbformat_minor": 2
}
